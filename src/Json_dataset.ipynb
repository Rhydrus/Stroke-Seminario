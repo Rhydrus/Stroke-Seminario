{
 "cells": [
  {
   "cell_type": "code",
   "execution_count": 13,
   "metadata": {},
   "outputs": [
    {
     "name": "stdout",
     "output_type": "stream",
     "text": [
      "Archivo JSON creado exitosamente: C:\\Users\\Carlo\\Documents\\GitHub\\seminario\\Stroke-Seminario\\data\\training_data.json\n"
     ]
    }
   ],
   "source": [
    "import json\n",
    "import os\n",
    "\n",
    "# Lista de casos de pacientes (modifica con tus datos)\n",
    "example_cases = 250\n",
    "base_path = r\"C:\\Users\\Carlo\\Documents\\GitHub\\seminario\\Stroke-Seminario\\data\"\n",
    "\n",
    "data = {\"training\": []}\n",
    "\n",
    "fold = 0  # Inicializa el fold\n",
    "for index, case in enumerate(range(example_cases)):\n",
    "\n",
    "    if index % 50 == 0 and index != 0:  # Aumenta el fold cada 20 casos\n",
    "        fold += 1\n",
    "\n",
    "    case_folder = \"sub-strokecase{:04d}\".format(case + 1)\n",
    "\n",
    "    entry = {\n",
    "        \"fold\": fold,\n",
    "        \"image\": [\n",
    "            os.path.join(\n",
    "                base_path,\n",
    "                \"raw_data\",\n",
    "                case_folder,\n",
    "                \"ses-0001\",\n",
    "                \"dwi\",\n",
    "                f\"{case_folder}_ses-0001_dwi.nii.gz\",\n",
    "            ),\n",
    "            os.path.join(\n",
    "                base_path,\n",
    "                \"raw_data\",\n",
    "                case_folder,\n",
    "                \"ses-0001\",\n",
    "                \"dwi\",\n",
    "                f\"{case_folder}_ses-0001_adc.nii.gz\",\n",
    "            ),\n",
    "            os.path.join(\n",
    "                base_path,\n",
    "                \"raw_data\",\n",
    "                case_folder,\n",
    "                \"ses-0001\",\n",
    "                \"anat\",\n",
    "                f\"{case_folder}_ses-0001_FlAIR.nii.gz\",\n",
    "            ),\n",
    "        ],\n",
    "        \"label\": os.path.join(\n",
    "            base_path,\n",
    "            \"derivatives\",\n",
    "            case_folder,\n",
    "            \"ses-0001\",\n",
    "            f\"{case_folder}_ses-0001_msk.nii.gz\",\n",
    "        ),\n",
    "    }\n",
    "    data[\"training\"].append(entry)\n",
    "\n",
    "# Guardar el JSON en un archivo\n",
    "json_file_path = os.path.join(base_path, \"training_data.json\")\n",
    "with open(json_file_path, \"w\") as json_file:\n",
    "    json.dump(data, json_file, indent=4)\n",
    "\n",
    "print(f\"Archivo JSON creado exitosamente: {json_file_path}\")"
   ]
  },
  {
   "cell_type": "code",
   "execution_count": null,
   "metadata": {},
   "outputs": [],
   "source": []
  }
 ],
 "metadata": {
  "kernelspec": {
   "display_name": "GPU",
   "language": "python",
   "name": "python3"
  },
  "language_info": {
   "codemirror_mode": {
    "name": "ipython",
    "version": 3
   },
   "file_extension": ".py",
   "mimetype": "text/x-python",
   "name": "python",
   "nbconvert_exporter": "python",
   "pygments_lexer": "ipython3",
   "version": "3.8.20"
  }
 },
 "nbformat": 4,
 "nbformat_minor": 2
}
